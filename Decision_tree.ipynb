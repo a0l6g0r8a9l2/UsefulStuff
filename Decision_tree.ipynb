{
 "cells": [
  {
   "cell_type": "markdown",
   "id": "0fbc9748-ca62-497b-8206-b35a18ab41a3",
   "metadata": {},
   "source": [
    "# Решающие деревья"
   ]
  },
  {
   "cell_type": "markdown",
   "id": "82361927-0db8-4d86-9050-2781e7abe977",
   "metadata": {},
   "source": [
    "https://stepik.org/lesson/223994/step/1?unit=196798\n",
    "\n",
    "Entropy reduction - уменьшение энтропии, в попытке предикта переменной и учете фичи\n",
    "\n",
    "Information gain - качество выбора решения фичи для уменьшения энторпии\n",
    "\n",
    "Больше инфы: https://stepik.org/lesson/223994/step/9?unit=196798"
   ]
  },
  {
   "cell_type": "code",
   "execution_count": 2,
   "id": "62954f8c-6fbb-4ebf-825d-5f321b4efd30",
   "metadata": {},
   "outputs": [],
   "source": [
    "from sklearn import tree\n",
    "import pandas as pd\n",
    "import numpy as np\n",
    "%matplotlib inline \n",
    "# графики в том же окне\n",
    "import matplotlib.pyplot as plt\n",
    "import seaborn as sns"
   ]
  },
  {
   "cell_type": "code",
   "execution_count": 35,
   "id": "f716038c-5ff8-4f9c-9b99-38f99d9f843a",
   "metadata": {},
   "outputs": [
    {
     "data": {
      "text/html": [
       "<div>\n",
       "<style scoped>\n",
       "    .dataframe tbody tr th:only-of-type {\n",
       "        vertical-align: middle;\n",
       "    }\n",
       "\n",
       "    .dataframe tbody tr th {\n",
       "        vertical-align: top;\n",
       "    }\n",
       "\n",
       "    .dataframe thead th {\n",
       "        text-align: right;\n",
       "    }\n",
       "</style>\n",
       "<table border=\"1\" class=\"dataframe\">\n",
       "  <thead>\n",
       "    <tr style=\"text-align: right;\">\n",
       "      <th></th>\n",
       "      <th>Шерстист</th>\n",
       "      <th>Гавкает</th>\n",
       "      <th>Лазает по деревьям</th>\n",
       "      <th>Вид</th>\n",
       "    </tr>\n",
       "  </thead>\n",
       "  <tbody>\n",
       "    <tr>\n",
       "      <th>0</th>\n",
       "      <td>1</td>\n",
       "      <td>1</td>\n",
       "      <td>0</td>\n",
       "      <td>собачка</td>\n",
       "    </tr>\n",
       "    <tr>\n",
       "      <th>1</th>\n",
       "      <td>1</td>\n",
       "      <td>1</td>\n",
       "      <td>0</td>\n",
       "      <td>собачка</td>\n",
       "    </tr>\n",
       "    <tr>\n",
       "      <th>2</th>\n",
       "      <td>1</td>\n",
       "      <td>1</td>\n",
       "      <td>0</td>\n",
       "      <td>собачка</td>\n",
       "    </tr>\n",
       "    <tr>\n",
       "      <th>3</th>\n",
       "      <td>1</td>\n",
       "      <td>1</td>\n",
       "      <td>0</td>\n",
       "      <td>собачка</td>\n",
       "    </tr>\n",
       "    <tr>\n",
       "      <th>4</th>\n",
       "      <td>1</td>\n",
       "      <td>0</td>\n",
       "      <td>1</td>\n",
       "      <td>котик</td>\n",
       "    </tr>\n",
       "    <tr>\n",
       "      <th>5</th>\n",
       "      <td>1</td>\n",
       "      <td>0</td>\n",
       "      <td>1</td>\n",
       "      <td>котик</td>\n",
       "    </tr>\n",
       "    <tr>\n",
       "      <th>6</th>\n",
       "      <td>1</td>\n",
       "      <td>0</td>\n",
       "      <td>1</td>\n",
       "      <td>котик</td>\n",
       "    </tr>\n",
       "    <tr>\n",
       "      <th>7</th>\n",
       "      <td>1</td>\n",
       "      <td>0</td>\n",
       "      <td>1</td>\n",
       "      <td>котик</td>\n",
       "    </tr>\n",
       "    <tr>\n",
       "      <th>8</th>\n",
       "      <td>1</td>\n",
       "      <td>1</td>\n",
       "      <td>1</td>\n",
       "      <td>котик</td>\n",
       "    </tr>\n",
       "    <tr>\n",
       "      <th>9</th>\n",
       "      <td>0</td>\n",
       "      <td>0</td>\n",
       "      <td>1</td>\n",
       "      <td>котик</td>\n",
       "    </tr>\n",
       "  </tbody>\n",
       "</table>\n",
       "</div>"
      ],
      "text/plain": [
       "   Шерстист  Гавкает  Лазает по деревьям      Вид\n",
       "0         1        1                   0  собачка\n",
       "1         1        1                   0  собачка\n",
       "2         1        1                   0  собачка\n",
       "3         1        1                   0  собачка\n",
       "4         1        0                   1    котик\n",
       "5         1        0                   1    котик\n",
       "6         1        0                   1    котик\n",
       "7         1        0                   1    котик\n",
       "8         1        1                   1    котик\n",
       "9         0        0                   1    котик"
      ]
     },
     "execution_count": 35,
     "metadata": {},
     "output_type": "execute_result"
    }
   ],
   "source": [
    "data = pd.read_csv('https://stepik.org/media/attachments/course/4852/cats.csv')\n",
    "data = data.drop('Unnamed: 0', axis=1)\n",
    "data"
   ]
  },
  {
   "cell_type": "code",
   "execution_count": 38,
   "id": "f4915b4a-4fc0-4885-a208-b43816538ee8",
   "metadata": {},
   "outputs": [
    {
     "data": {
      "text/plain": [
       "Шерстист               int32\n",
       "Гавкает                int32\n",
       "Лазает по деревьям     int32\n",
       "Вид                   object\n",
       "dtype: object"
      ]
     },
     "execution_count": 38,
     "metadata": {},
     "output_type": "execute_result"
    }
   ],
   "source": [
    "data = data.astype({'Шерстист': 'int32', 'Гавкает': 'int32', 'Лазает по деревьям': 'int32'})\n",
    "data.dtypes"
   ]
  },
  {
   "cell_type": "code",
   "execution_count": 13,
   "id": "43d3b07b-21fd-4d75-a5b8-39aff3af9e24",
   "metadata": {},
   "outputs": [],
   "source": [
    "classificator = tree.DecisionTreeClassifier(criterion='entropy') # класс который опеределяет классифкатор решающего дерева"
   ]
  },
  {
   "cell_type": "code",
   "execution_count": 14,
   "id": "5c78c946-ab5e-4d88-a0cf-8fb2edd4c74d",
   "metadata": {},
   "outputs": [
    {
     "data": {
      "text/plain": [
       "DecisionTreeClassifier(criterion='entropy')"
      ]
     },
     "execution_count": 14,
     "metadata": {},
     "output_type": "execute_result"
    }
   ],
   "source": [
    "classificator"
   ]
  },
  {
   "cell_type": "code",
   "execution_count": 15,
   "id": "225e224a-bbe7-450c-adb6-3f42ab62dca8",
   "metadata": {},
   "outputs": [],
   "source": [
    "X = data[['Шерстист', 'Гавкает', 'Лазает по деревьям']] # Feature\n",
    "y = data['Вид'] # целевая переменная"
   ]
  },
  {
   "cell_type": "code",
   "execution_count": 28,
   "id": "7f0491ce-ae1d-4701-83cd-39d02ce87371",
   "metadata": {},
   "outputs": [],
   "source": [
    "result = classificator.fit(X, y) # обучить классификатор"
   ]
  },
  {
   "cell_type": "code",
   "execution_count": 27,
   "id": "62495c58-ec60-44bb-a10e-1e39e7d1a548",
   "metadata": {},
   "outputs": [
    {
     "data": {
      "text/plain": [
       "[Text(167.4, 163.07999999999998, 'Лазает по деревьям <= 0.5\\nentropy = 0.971\\nsamples = 10\\nvalue = [6, 4]'),\n",
       " Text(83.7, 54.360000000000014, 'entropy = 0.0\\nsamples = 4\\nvalue = [0, 4]'),\n",
       " Text(251.10000000000002, 54.360000000000014, 'entropy = 0.0\\nsamples = 6\\nvalue = [6, 0]')]"
      ]
     },
     "execution_count": 27,
     "metadata": {},
     "output_type": "execute_result"
    },
    {
     "data": {
      "image/png": "[encoded data removed]",
      "text/plain": [
       "<Figure size 432x288 with 1 Axes>"
      ]
     },
     "metadata": {
      "needs_background": "light"
     },
     "output_type": "display_data"
    }
   ],
   "source": [
    "tree.plot_tree(result,feature_names=['Шерстист', 'Гавкает', 'Лазает по деревьям'])"
   ]
  },
  {
   "cell_type": "markdown",
   "id": "e1883ec8-98da-4ed4-9478-f1b9cbe7dd04",
   "metadata": {},
   "source": [
    "## Посчитаем энтропию\n",
    "\n",
    "https://stepik.org/lesson/223994/step/7?unit=196798"
   ]
  },
  {
   "cell_type": "code",
   "execution_count": 60,
   "id": "0eb901cc-115e-4c9e-9165-039420837d04",
   "metadata": {},
   "outputs": [],
   "source": [
    "from scipy.stats import entropy"
   ]
  },
  {
   "cell_type": "code",
   "execution_count": 51,
   "id": "db103497-789d-48df-a439-8c4ceb7b5307",
   "metadata": {},
   "outputs": [
    {
     "data": {
      "text/html": [
       "<div>\n",
       "<style scoped>\n",
       "    .dataframe tbody tr th:only-of-type {\n",
       "        vertical-align: middle;\n",
       "    }\n",
       "\n",
       "    .dataframe tbody tr th {\n",
       "        vertical-align: top;\n",
       "    }\n",
       "\n",
       "    .dataframe thead th {\n",
       "        text-align: right;\n",
       "    }\n",
       "</style>\n",
       "<table border=\"1\" class=\"dataframe\">\n",
       "  <thead>\n",
       "    <tr style=\"text-align: right;\">\n",
       "      <th></th>\n",
       "      <th>Шерстист</th>\n",
       "      <th>Гавкает</th>\n",
       "      <th>Лазает по деревьям</th>\n",
       "      <th>Вид</th>\n",
       "    </tr>\n",
       "  </thead>\n",
       "  <tbody>\n",
       "    <tr>\n",
       "      <th>9</th>\n",
       "      <td>0</td>\n",
       "      <td>0</td>\n",
       "      <td>1</td>\n",
       "      <td>котик</td>\n",
       "    </tr>\n",
       "  </tbody>\n",
       "</table>\n",
       "</div>"
      ],
      "text/plain": [
       "   Шерстист  Гавкает  Лазает по деревьям    Вид\n",
       "9         0        0                   1  котик"
      ]
     },
     "execution_count": 51,
     "metadata": {},
     "output_type": "execute_result"
    }
   ],
   "source": [
    "data.query('Шерстист < 0.5') # entropy([1/1], base=2) # из 1 не шерстистого 1 кот"
   ]
  },
  {
   "cell_type": "code",
   "execution_count": 90,
   "id": "29d3de2f-c374-4a67-b451-a24e3752378a",
   "metadata": {},
   "outputs": [
    {
     "data": {
      "text/html": [
       "<div>\n",
       "<style scoped>\n",
       "    .dataframe tbody tr th:only-of-type {\n",
       "        vertical-align: middle;\n",
       "    }\n",
       "\n",
       "    .dataframe tbody tr th {\n",
       "        vertical-align: top;\n",
       "    }\n",
       "\n",
       "    .dataframe thead th {\n",
       "        text-align: right;\n",
       "    }\n",
       "</style>\n",
       "<table border=\"1\" class=\"dataframe\">\n",
       "  <thead>\n",
       "    <tr style=\"text-align: right;\">\n",
       "      <th></th>\n",
       "      <th>Шерстист</th>\n",
       "      <th>Гавкает</th>\n",
       "      <th>Лазает по деревьям</th>\n",
       "      <th>Вид</th>\n",
       "    </tr>\n",
       "  </thead>\n",
       "  <tbody>\n",
       "    <tr>\n",
       "      <th>0</th>\n",
       "      <td>1</td>\n",
       "      <td>1</td>\n",
       "      <td>0</td>\n",
       "      <td>собачка</td>\n",
       "    </tr>\n",
       "    <tr>\n",
       "      <th>1</th>\n",
       "      <td>1</td>\n",
       "      <td>1</td>\n",
       "      <td>0</td>\n",
       "      <td>собачка</td>\n",
       "    </tr>\n",
       "    <tr>\n",
       "      <th>2</th>\n",
       "      <td>1</td>\n",
       "      <td>1</td>\n",
       "      <td>0</td>\n",
       "      <td>собачка</td>\n",
       "    </tr>\n",
       "    <tr>\n",
       "      <th>3</th>\n",
       "      <td>1</td>\n",
       "      <td>1</td>\n",
       "      <td>0</td>\n",
       "      <td>собачка</td>\n",
       "    </tr>\n",
       "    <tr>\n",
       "      <th>4</th>\n",
       "      <td>1</td>\n",
       "      <td>0</td>\n",
       "      <td>1</td>\n",
       "      <td>котик</td>\n",
       "    </tr>\n",
       "    <tr>\n",
       "      <th>5</th>\n",
       "      <td>1</td>\n",
       "      <td>0</td>\n",
       "      <td>1</td>\n",
       "      <td>котик</td>\n",
       "    </tr>\n",
       "    <tr>\n",
       "      <th>6</th>\n",
       "      <td>1</td>\n",
       "      <td>0</td>\n",
       "      <td>1</td>\n",
       "      <td>котик</td>\n",
       "    </tr>\n",
       "    <tr>\n",
       "      <th>7</th>\n",
       "      <td>1</td>\n",
       "      <td>0</td>\n",
       "      <td>1</td>\n",
       "      <td>котик</td>\n",
       "    </tr>\n",
       "    <tr>\n",
       "      <th>8</th>\n",
       "      <td>1</td>\n",
       "      <td>1</td>\n",
       "      <td>1</td>\n",
       "      <td>котик</td>\n",
       "    </tr>\n",
       "  </tbody>\n",
       "</table>\n",
       "</div>"
      ],
      "text/plain": [
       "   Шерстист  Гавкает  Лазает по деревьям      Вид\n",
       "0         1        1                   0  собачка\n",
       "1         1        1                   0  собачка\n",
       "2         1        1                   0  собачка\n",
       "3         1        1                   0  собачка\n",
       "4         1        0                   1    котик\n",
       "5         1        0                   1    котик\n",
       "6         1        0                   1    котик\n",
       "7         1        0                   1    котик\n",
       "8         1        1                   1    котик"
      ]
     },
     "execution_count": 90,
     "metadata": {},
     "output_type": "execute_result"
    }
   ],
   "source": [
    "data.query('Шерстист > 0.5') # entropy([1/1], base=2) # из 9 шерстистых 5 котов и 4 собаки"
   ]
  },
  {
   "cell_type": "code",
   "execution_count": 107,
   "id": "fe5e76a9-7ef6-4c4c-96e5-17790c449a46",
   "metadata": {},
   "outputs": [
    {
     "data": {
      "text/plain": [
       "0.9910760598382222"
      ]
     },
     "execution_count": 107,
     "metadata": {},
     "output_type": "execute_result"
    }
   ],
   "source": [
    "entropy([4/9, 5/9], base=2)"
   ]
  },
  {
   "cell_type": "code",
   "execution_count": 77,
   "id": "dae079e0-e279-46c1-bd81-01fc184ff22a",
   "metadata": {},
   "outputs": [
    {
     "data": {
      "text/html": [
       "<div>\n",
       "<style scoped>\n",
       "    .dataframe tbody tr th:only-of-type {\n",
       "        vertical-align: middle;\n",
       "    }\n",
       "\n",
       "    .dataframe tbody tr th {\n",
       "        vertical-align: top;\n",
       "    }\n",
       "\n",
       "    .dataframe thead th {\n",
       "        text-align: right;\n",
       "    }\n",
       "</style>\n",
       "<table border=\"1\" class=\"dataframe\">\n",
       "  <thead>\n",
       "    <tr style=\"text-align: right;\">\n",
       "      <th></th>\n",
       "      <th>Шерстист</th>\n",
       "      <th>Гавкает</th>\n",
       "      <th>Лазает по деревьям</th>\n",
       "      <th>Вид</th>\n",
       "    </tr>\n",
       "  </thead>\n",
       "  <tbody>\n",
       "    <tr>\n",
       "      <th>0</th>\n",
       "      <td>1</td>\n",
       "      <td>1</td>\n",
       "      <td>0</td>\n",
       "      <td>собачка</td>\n",
       "    </tr>\n",
       "    <tr>\n",
       "      <th>1</th>\n",
       "      <td>1</td>\n",
       "      <td>1</td>\n",
       "      <td>0</td>\n",
       "      <td>собачка</td>\n",
       "    </tr>\n",
       "    <tr>\n",
       "      <th>2</th>\n",
       "      <td>1</td>\n",
       "      <td>1</td>\n",
       "      <td>0</td>\n",
       "      <td>собачка</td>\n",
       "    </tr>\n",
       "    <tr>\n",
       "      <th>3</th>\n",
       "      <td>1</td>\n",
       "      <td>1</td>\n",
       "      <td>0</td>\n",
       "      <td>собачка</td>\n",
       "    </tr>\n",
       "    <tr>\n",
       "      <th>8</th>\n",
       "      <td>1</td>\n",
       "      <td>1</td>\n",
       "      <td>1</td>\n",
       "      <td>котик</td>\n",
       "    </tr>\n",
       "  </tbody>\n",
       "</table>\n",
       "</div>"
      ],
      "text/plain": [
       "   Шерстист  Гавкает  Лазает по деревьям      Вид\n",
       "0         1        1                   0  собачка\n",
       "1         1        1                   0  собачка\n",
       "2         1        1                   0  собачка\n",
       "3         1        1                   0  собачка\n",
       "8         1        1                   1    котик"
      ]
     },
     "execution_count": 77,
     "metadata": {},
     "output_type": "execute_result"
    }
   ],
   "source": [
    "data.query('Гавкает > 0.5') # entropy([4/5, 1/5], base=2) # из 5 гавкающих 4 собаки и 1 кот"
   ]
  },
  {
   "cell_type": "code",
   "execution_count": 78,
   "id": "ac6fe5a0-8522-4881-a330-930445810a96",
   "metadata": {},
   "outputs": [
    {
     "data": {
      "text/html": [
       "<div>\n",
       "<style scoped>\n",
       "    .dataframe tbody tr th:only-of-type {\n",
       "        vertical-align: middle;\n",
       "    }\n",
       "\n",
       "    .dataframe tbody tr th {\n",
       "        vertical-align: top;\n",
       "    }\n",
       "\n",
       "    .dataframe thead th {\n",
       "        text-align: right;\n",
       "    }\n",
       "</style>\n",
       "<table border=\"1\" class=\"dataframe\">\n",
       "  <thead>\n",
       "    <tr style=\"text-align: right;\">\n",
       "      <th></th>\n",
       "      <th>Шерстист</th>\n",
       "      <th>Гавкает</th>\n",
       "      <th>Лазает по деревьям</th>\n",
       "      <th>Вид</th>\n",
       "    </tr>\n",
       "  </thead>\n",
       "  <tbody>\n",
       "    <tr>\n",
       "      <th>4</th>\n",
       "      <td>1</td>\n",
       "      <td>0</td>\n",
       "      <td>1</td>\n",
       "      <td>котик</td>\n",
       "    </tr>\n",
       "    <tr>\n",
       "      <th>5</th>\n",
       "      <td>1</td>\n",
       "      <td>0</td>\n",
       "      <td>1</td>\n",
       "      <td>котик</td>\n",
       "    </tr>\n",
       "    <tr>\n",
       "      <th>6</th>\n",
       "      <td>1</td>\n",
       "      <td>0</td>\n",
       "      <td>1</td>\n",
       "      <td>котик</td>\n",
       "    </tr>\n",
       "    <tr>\n",
       "      <th>7</th>\n",
       "      <td>1</td>\n",
       "      <td>0</td>\n",
       "      <td>1</td>\n",
       "      <td>котик</td>\n",
       "    </tr>\n",
       "    <tr>\n",
       "      <th>9</th>\n",
       "      <td>0</td>\n",
       "      <td>0</td>\n",
       "      <td>1</td>\n",
       "      <td>котик</td>\n",
       "    </tr>\n",
       "  </tbody>\n",
       "</table>\n",
       "</div>"
      ],
      "text/plain": [
       "   Шерстист  Гавкает  Лазает по деревьям    Вид\n",
       "4         1        0                   1  котик\n",
       "5         1        0                   1  котик\n",
       "6         1        0                   1  котик\n",
       "7         1        0                   1  котик\n",
       "9         0        0                   1  котик"
      ]
     },
     "execution_count": 78,
     "metadata": {},
     "output_type": "execute_result"
    }
   ],
   "source": [
    "data.query('Гавкает < 0.5') # entropy([5/5], base=2) # из 5 не гавкающих 5 котов"
   ]
  },
  {
   "cell_type": "code",
   "execution_count": 95,
   "id": "6344f7e3-f1dd-4650-b143-1e23b658746e",
   "metadata": {},
   "outputs": [
    {
     "data": {
      "text/plain": [
       "0.7219280948873623"
      ]
     },
     "execution_count": 95,
     "metadata": {},
     "output_type": "execute_result"
    }
   ],
   "source": [
    "entropy([4/5, 1/5], base=2)"
   ]
  },
  {
   "cell_type": "code",
   "execution_count": 102,
   "id": "7a6676a4-ddb3-46d5-b90d-8032e7dd26ac",
   "metadata": {},
   "outputs": [
    {
     "data": {
      "text/plain": [
       "0.9709505944546688"
      ]
     },
     "execution_count": 102,
     "metadata": {},
     "output_type": "execute_result"
    }
   ],
   "source": [
    "entropy([4/10, 6/10], base=2) # базовая эннтропия 4 собаки, 6 котов"
   ]
  },
  {
   "cell_type": "code",
   "execution_count": 103,
   "id": "c5f8070b-109f-48e5-be48-fea5dd875d24",
   "metadata": {},
   "outputs": [],
   "source": [
    "\"Information Gain - мера снижения интропии. Базовая энтропия = 1, если выборка равно распеределена (5 котов и 5 собак)\"\n",
    "def information_gein(size: int, left_size: int, left_entropy: float, right_size: int, right_entropy: float, base_entropy: float = 0.9709505944546688):\n",
    "    return round((base_entropy - (left_size/size*left_entropy + right_size/size*right_entropy)), 2)"
   ]
  },
  {
   "cell_type": "code",
   "execution_count": 104,
   "id": "43616250-c1f8-4174-b25c-0d978b5b9ec1",
   "metadata": {},
   "outputs": [
    {
     "data": {
      "text/plain": [
       "0.08"
      ]
     },
     "execution_count": 104,
     "metadata": {},
     "output_type": "execute_result"
    }
   ],
   "source": [
    "information_gein(size=10, left_size=1, left_entropy=0, right_size=9, right_entropy=0.9910760598382222) # Шерстист"
   ]
  },
  {
   "cell_type": "code",
   "execution_count": 105,
   "id": "d5c37b0b-be53-4f8e-a9d0-51437e9d619e",
   "metadata": {},
   "outputs": [
    {
     "data": {
      "text/plain": [
       "0.61"
      ]
     },
     "execution_count": 105,
     "metadata": {},
     "output_type": "execute_result"
    }
   ],
   "source": [
    "information_gein(size=10, left_size=5, left_entropy=0, right_size=5, right_entropy=0.7219280948873623) # Гавкающий"
   ]
  },
  {
   "cell_type": "code",
   "execution_count": 106,
   "id": "996161ea-e5dc-484f-b6d3-5b18364539db",
   "metadata": {},
   "outputs": [
    {
     "data": {
      "text/plain": [
       "0.97"
      ]
     },
     "execution_count": 106,
     "metadata": {},
     "output_type": "execute_result"
    }
   ],
   "source": [
    "information_gein(size=10, left_size=5, left_entropy=0, right_size=5, right_entropy=0) # Лазает по деревьям"
   ]
  },
  {
   "cell_type": "markdown",
   "id": "a20d4e28-4fdb-4581-b464-f3b2462032ef",
   "metadata": {},
   "source": [
    "## Построить Decision tree для датасета с ирисами. \n",
    "\n",
    "Целевой переменной при обучении является переменная species. \n",
    "\n",
    "https://stepik.org/lesson/209691/step/12?unit=183195"
   ]
  },
  {
   "cell_type": "markdown",
   "id": "104f9c2b-e4b4-4572-a5d0-d9415b3f1565",
   "metadata": {},
   "source": [
    "### Подлкючаем библиотеки"
   ]
  },
  {
   "cell_type": "code",
   "execution_count": 181,
   "id": "d6759f8b-e629-4419-bd73-8bfbd6e355af",
   "metadata": {},
   "outputs": [
    {
     "data": {
      "text/html": [
       "<style>svg{width: 100% !important; height: 100% !important;} </style>"
      ],
      "text/plain": [
       "<IPython.core.display.HTML object>"
      ]
     },
     "execution_count": 181,
     "metadata": {},
     "output_type": "execute_result"
    }
   ],
   "source": [
    "from IPython.display import SVG\n",
    "from graphviz import Source\n",
    "from IPython.display import display\n",
    "from sklearn.model_selection import cross_val_score\n",
    "from IPython.display import HTML\n",
    "style = \"<style>svg{width: 100% !important; height: 100% !important;} </style>\"\n",
    "HTML(style)"
   ]
  },
  {
   "cell_type": "markdown",
   "id": "897af28b-4823-46da-9479-1c64a62914ec",
   "metadata": {},
   "source": [
    "### Собираем и обрабатываем данные"
   ]
  },
  {
   "cell_type": "code",
   "execution_count": 110,
   "id": "66b62f32-e747-41ef-8c83-03d2f324b1f8",
   "metadata": {},
   "outputs": [],
   "source": [
    "df_train = pd.read_csv(\"https://stepik.org/media/attachments/course/4852/train_iris.csv\", index_col=0)\n",
    "df_test = pd.read_csv(\"https://stepik.org/media/attachments/course/4852/test_iris.csv\", index_col=0)"
   ]
  },
  {
   "cell_type": "code",
   "execution_count": 111,
   "id": "667d6b9a-059e-4e5d-a783-df067bad7fa7",
   "metadata": {},
   "outputs": [
    {
     "data": {
      "text/html": [
       "<div>\n",
       "<style scoped>\n",
       "    .dataframe tbody tr th:only-of-type {\n",
       "        vertical-align: middle;\n",
       "    }\n",
       "\n",
       "    .dataframe tbody tr th {\n",
       "        vertical-align: top;\n",
       "    }\n",
       "\n",
       "    .dataframe thead th {\n",
       "        text-align: right;\n",
       "    }\n",
       "</style>\n",
       "<table border=\"1\" class=\"dataframe\">\n",
       "  <thead>\n",
       "    <tr style=\"text-align: right;\">\n",
       "      <th></th>\n",
       "      <th>sepal length</th>\n",
       "      <th>sepal width</th>\n",
       "      <th>petal length</th>\n",
       "      <th>petal width</th>\n",
       "      <th>species</th>\n",
       "    </tr>\n",
       "  </thead>\n",
       "  <tbody>\n",
       "    <tr>\n",
       "      <th>114</th>\n",
       "      <td>5.8</td>\n",
       "      <td>2.8</td>\n",
       "      <td>5.1</td>\n",
       "      <td>2.4</td>\n",
       "      <td>2</td>\n",
       "    </tr>\n",
       "    <tr>\n",
       "      <th>70</th>\n",
       "      <td>5.9</td>\n",
       "      <td>3.2</td>\n",
       "      <td>4.8</td>\n",
       "      <td>1.8</td>\n",
       "      <td>1</td>\n",
       "    </tr>\n",
       "    <tr>\n",
       "      <th>138</th>\n",
       "      <td>6.0</td>\n",
       "      <td>3.0</td>\n",
       "      <td>4.8</td>\n",
       "      <td>1.8</td>\n",
       "      <td>2</td>\n",
       "    </tr>\n",
       "    <tr>\n",
       "      <th>59</th>\n",
       "      <td>5.2</td>\n",
       "      <td>2.7</td>\n",
       "      <td>3.9</td>\n",
       "      <td>1.4</td>\n",
       "      <td>1</td>\n",
       "    </tr>\n",
       "    <tr>\n",
       "      <th>44</th>\n",
       "      <td>5.1</td>\n",
       "      <td>3.8</td>\n",
       "      <td>1.9</td>\n",
       "      <td>0.4</td>\n",
       "      <td>0</td>\n",
       "    </tr>\n",
       "  </tbody>\n",
       "</table>\n",
       "</div>"
      ],
      "text/plain": [
       "     sepal length  sepal width  petal length  petal width  species\n",
       "114           5.8          2.8           5.1          2.4        2\n",
       "70            5.9          3.2           4.8          1.8        1\n",
       "138           6.0          3.0           4.8          1.8        2\n",
       "59            5.2          2.7           3.9          1.4        1\n",
       "44            5.1          3.8           1.9          0.4        0"
      ]
     },
     "execution_count": 111,
     "metadata": {},
     "output_type": "execute_result"
    }
   ],
   "source": [
    "df_test.head()"
   ]
  },
  {
   "cell_type": "code",
   "execution_count": 112,
   "id": "0740308b-6e64-4271-bc95-4708a66d7712",
   "metadata": {},
   "outputs": [
    {
     "data": {
      "text/html": [
       "<div>\n",
       "<style scoped>\n",
       "    .dataframe tbody tr th:only-of-type {\n",
       "        vertical-align: middle;\n",
       "    }\n",
       "\n",
       "    .dataframe tbody tr th {\n",
       "        vertical-align: top;\n",
       "    }\n",
       "\n",
       "    .dataframe thead th {\n",
       "        text-align: right;\n",
       "    }\n",
       "</style>\n",
       "<table border=\"1\" class=\"dataframe\">\n",
       "  <thead>\n",
       "    <tr style=\"text-align: right;\">\n",
       "      <th></th>\n",
       "      <th>sepal length</th>\n",
       "      <th>sepal width</th>\n",
       "      <th>petal length</th>\n",
       "      <th>petal width</th>\n",
       "      <th>species</th>\n",
       "    </tr>\n",
       "  </thead>\n",
       "  <tbody>\n",
       "    <tr>\n",
       "      <th>130</th>\n",
       "      <td>7.4</td>\n",
       "      <td>2.8</td>\n",
       "      <td>6.1</td>\n",
       "      <td>1.9</td>\n",
       "      <td>2</td>\n",
       "    </tr>\n",
       "    <tr>\n",
       "      <th>7</th>\n",
       "      <td>5.0</td>\n",
       "      <td>3.4</td>\n",
       "      <td>1.5</td>\n",
       "      <td>0.2</td>\n",
       "      <td>0</td>\n",
       "    </tr>\n",
       "    <tr>\n",
       "      <th>11</th>\n",
       "      <td>4.8</td>\n",
       "      <td>3.4</td>\n",
       "      <td>1.6</td>\n",
       "      <td>0.2</td>\n",
       "      <td>0</td>\n",
       "    </tr>\n",
       "    <tr>\n",
       "      <th>142</th>\n",
       "      <td>5.8</td>\n",
       "      <td>2.7</td>\n",
       "      <td>5.1</td>\n",
       "      <td>1.9</td>\n",
       "      <td>2</td>\n",
       "    </tr>\n",
       "    <tr>\n",
       "      <th>109</th>\n",
       "      <td>7.2</td>\n",
       "      <td>3.6</td>\n",
       "      <td>6.1</td>\n",
       "      <td>2.5</td>\n",
       "      <td>2</td>\n",
       "    </tr>\n",
       "  </tbody>\n",
       "</table>\n",
       "</div>"
      ],
      "text/plain": [
       "     sepal length  sepal width  petal length  petal width  species\n",
       "130           7.4          2.8           6.1          1.9        2\n",
       "7             5.0          3.4           1.5          0.2        0\n",
       "11            4.8          3.4           1.6          0.2        0\n",
       "142           5.8          2.7           5.1          1.9        2\n",
       "109           7.2          3.6           6.1          2.5        2"
      ]
     },
     "execution_count": 112,
     "metadata": {},
     "output_type": "execute_result"
    }
   ],
   "source": [
    "df_train.head()"
   ]
  },
  {
   "cell_type": "code",
   "execution_count": 116,
   "id": "10614975-da09-4e06-9c4d-78e8d9096bd1",
   "metadata": {},
   "outputs": [],
   "source": [
    "# Готовим фичи. Удаляем ненужные столбцы и тот, который будем предсказывать\n",
    "X_train = df_train.drop(['species'], axis=1)\n",
    "X_test = df_test.drop(['species'], axis=1)"
   ]
  },
  {
   "cell_type": "code",
   "execution_count": 115,
   "id": "105ca3e3-10de-458d-b3ea-1316b6db4e9d",
   "metadata": {},
   "outputs": [
    {
     "data": {
      "text/html": [
       "<div>\n",
       "<style scoped>\n",
       "    .dataframe tbody tr th:only-of-type {\n",
       "        vertical-align: middle;\n",
       "    }\n",
       "\n",
       "    .dataframe tbody tr th {\n",
       "        vertical-align: top;\n",
       "    }\n",
       "\n",
       "    .dataframe thead th {\n",
       "        text-align: right;\n",
       "    }\n",
       "</style>\n",
       "<table border=\"1\" class=\"dataframe\">\n",
       "  <thead>\n",
       "    <tr style=\"text-align: right;\">\n",
       "      <th></th>\n",
       "      <th>sepal length</th>\n",
       "      <th>sepal width</th>\n",
       "      <th>petal length</th>\n",
       "      <th>petal width</th>\n",
       "    </tr>\n",
       "  </thead>\n",
       "  <tbody>\n",
       "    <tr>\n",
       "      <th>130</th>\n",
       "      <td>7.4</td>\n",
       "      <td>2.8</td>\n",
       "      <td>6.1</td>\n",
       "      <td>1.9</td>\n",
       "    </tr>\n",
       "    <tr>\n",
       "      <th>7</th>\n",
       "      <td>5.0</td>\n",
       "      <td>3.4</td>\n",
       "      <td>1.5</td>\n",
       "      <td>0.2</td>\n",
       "    </tr>\n",
       "    <tr>\n",
       "      <th>11</th>\n",
       "      <td>4.8</td>\n",
       "      <td>3.4</td>\n",
       "      <td>1.6</td>\n",
       "      <td>0.2</td>\n",
       "    </tr>\n",
       "    <tr>\n",
       "      <th>142</th>\n",
       "      <td>5.8</td>\n",
       "      <td>2.7</td>\n",
       "      <td>5.1</td>\n",
       "      <td>1.9</td>\n",
       "    </tr>\n",
       "    <tr>\n",
       "      <th>109</th>\n",
       "      <td>7.2</td>\n",
       "      <td>3.6</td>\n",
       "      <td>6.1</td>\n",
       "      <td>2.5</td>\n",
       "    </tr>\n",
       "  </tbody>\n",
       "</table>\n",
       "</div>"
      ],
      "text/plain": [
       "     sepal length  sepal width  petal length  petal width\n",
       "130           7.4          2.8           6.1          1.9\n",
       "7             5.0          3.4           1.5          0.2\n",
       "11            4.8          3.4           1.6          0.2\n",
       "142           5.8          2.7           5.1          1.9\n",
       "109           7.2          3.6           6.1          2.5"
      ]
     },
     "execution_count": 115,
     "metadata": {},
     "output_type": "execute_result"
    }
   ],
   "source": [
    "X_train.head()"
   ]
  },
  {
   "cell_type": "code",
   "execution_count": 117,
   "id": "bfe72df3-6ba4-45b8-84b4-3f64271a601e",
   "metadata": {},
   "outputs": [],
   "source": [
    "# Отбираем целевые переменныые для обучения\n",
    "y_train = df_train['species']\n",
    "y_test = df_test['species']"
   ]
  },
  {
   "cell_type": "code",
   "execution_count": 120,
   "id": "1132b365-aefa-485e-ae15-754862052075",
   "metadata": {},
   "outputs": [
    {
     "data": {
      "text/plain": [
       "130    2\n",
       "7      0\n",
       "11     0\n",
       "142    2\n",
       "109    2\n",
       "Name: species, dtype: int64"
      ]
     },
     "execution_count": 120,
     "metadata": {},
     "output_type": "execute_result"
    }
   ],
   "source": [
    "y_train.head()"
   ]
  },
  {
   "cell_type": "markdown",
   "id": "9c738cd4-e125-4fa3-a120-4e7924dfa799",
   "metadata": {},
   "source": [
    "### Обучение"
   ]
  },
  {
   "cell_type": "code",
   "execution_count": 146,
   "id": "b5916c1a-07e6-419d-a960-7280ac28526a",
   "metadata": {},
   "outputs": [],
   "source": [
    "rs = np.random.seed(0)"
   ]
  },
  {
   "cell_type": "code",
   "execution_count": 147,
   "id": "dff3894f-f8bd-4dc8-82aa-0adb1f7b2c8d",
   "metadata": {},
   "outputs": [],
   "source": [
    "max_depth_values = range(1, 100)"
   ]
  },
  {
   "cell_type": "code",
   "execution_count": 185,
   "id": "93ea920b-14e6-40b9-ab2b-3c62c43cff5f",
   "metadata": {},
   "outputs": [],
   "source": [
    "scores_data = pd.DataFrame()"
   ]
  },
  {
   "cell_type": "code",
   "execution_count": 186,
   "id": "3cc91870-c63d-44b5-aeb8-abdb163528b1",
   "metadata": {},
   "outputs": [],
   "source": [
    "for max_depth in max_depth_values:\n",
    "    cls = tree.DecisionTreeClassifier(criterion='entropy', max_depth=max_depth, random_state=rs)\n",
    "    cls.fit(X_train, y_train)\n",
    "    train_score = cls.score(X_train, y_train)\n",
    "    test_score = cls.score(X_test, y_test)\n",
    "    mean_cross_score = cross_val_score(cls, X_train, y_train, cv=5).mean()\n",
    "    temp_df = pd.DataFrame({\"max_depth\": [max_depth], \n",
    "                            \"train_score\": [train_score], \n",
    "                            \"test_score\": [test_score], # [train score] - в квадратных скобках, т.к. пишем 1 значение\n",
    "                            \"mean_cross_score\": [mean_cross_score]\n",
    "                          })\n",
    "    scores_data = scores_data.append(temp_df)"
   ]
  },
  {
   "cell_type": "code",
   "execution_count": 187,
   "id": "f228225a-57a0-4d66-a093-3c34956fa824",
   "metadata": {},
   "outputs": [
    {
     "data": {
      "text/html": [
       "<div>\n",
       "<style scoped>\n",
       "    .dataframe tbody tr th:only-of-type {\n",
       "        vertical-align: middle;\n",
       "    }\n",
       "\n",
       "    .dataframe tbody tr th {\n",
       "        vertical-align: top;\n",
       "    }\n",
       "\n",
       "    .dataframe thead th {\n",
       "        text-align: right;\n",
       "    }\n",
       "</style>\n",
       "<table border=\"1\" class=\"dataframe\">\n",
       "  <thead>\n",
       "    <tr style=\"text-align: right;\">\n",
       "      <th></th>\n",
       "      <th>max_depth</th>\n",
       "      <th>train_score</th>\n",
       "      <th>test_score</th>\n",
       "      <th>mean_cross_score</th>\n",
       "    </tr>\n",
       "  </thead>\n",
       "  <tbody>\n",
       "    <tr>\n",
       "      <th>0</th>\n",
       "      <td>1</td>\n",
       "      <td>0.70</td>\n",
       "      <td>0.60</td>\n",
       "      <td>0.70</td>\n",
       "    </tr>\n",
       "    <tr>\n",
       "      <th>0</th>\n",
       "      <td>2</td>\n",
       "      <td>0.97</td>\n",
       "      <td>0.94</td>\n",
       "      <td>0.95</td>\n",
       "    </tr>\n",
       "    <tr>\n",
       "      <th>0</th>\n",
       "      <td>3</td>\n",
       "      <td>0.99</td>\n",
       "      <td>0.94</td>\n",
       "      <td>0.96</td>\n",
       "    </tr>\n",
       "    <tr>\n",
       "      <th>0</th>\n",
       "      <td>4</td>\n",
       "      <td>1.00</td>\n",
       "      <td>0.94</td>\n",
       "      <td>0.96</td>\n",
       "    </tr>\n",
       "    <tr>\n",
       "      <th>0</th>\n",
       "      <td>5</td>\n",
       "      <td>1.00</td>\n",
       "      <td>0.94</td>\n",
       "      <td>0.96</td>\n",
       "    </tr>\n",
       "  </tbody>\n",
       "</table>\n",
       "</div>"
      ],
      "text/plain": [
       "   max_depth  train_score  test_score  mean_cross_score\n",
       "0          1         0.70        0.60              0.70\n",
       "0          2         0.97        0.94              0.95\n",
       "0          3         0.99        0.94              0.96\n",
       "0          4         1.00        0.94              0.96\n",
       "0          5         1.00        0.94              0.96"
      ]
     },
     "execution_count": 187,
     "metadata": {},
     "output_type": "execute_result"
    }
   ],
   "source": [
    "scores_data.head() # wide формат"
   ]
  },
  {
   "cell_type": "markdown",
   "id": "4226bab9-3e01-4f33-b657-ff35f0884b79",
   "metadata": {},
   "source": [
    "### Визуализация"
   ]
  },
  {
   "cell_type": "code",
   "execution_count": 188,
   "id": "1d3e26c4-c5f7-4d04-b0f3-9091d84e3884",
   "metadata": {},
   "outputs": [],
   "source": [
    "scores_data_long = pd.melt(scores_data,\n",
    "                      id_vars=['max_depth'], # колонка для группировки\n",
    "                      value_vars=['train_score', 'test_score', 'mean_cross_score'], # колонки для группировки по типу\n",
    "                      value_name='score', # тип\n",
    "                      var_name='type_score' # название колонки с типом\n",
    "                     )"
   ]
  },
  {
   "cell_type": "code",
   "execution_count": 201,
   "id": "a1f034d1-1b9d-4ce5-a78e-98d98c486ac6",
   "metadata": {},
   "outputs": [
    {
     "data": {
      "text/html": [
       "<div>\n",
       "<style scoped>\n",
       "    .dataframe tbody tr th:only-of-type {\n",
       "        vertical-align: middle;\n",
       "    }\n",
       "\n",
       "    .dataframe tbody tr th {\n",
       "        vertical-align: top;\n",
       "    }\n",
       "\n",
       "    .dataframe thead th {\n",
       "        text-align: right;\n",
       "    }\n",
       "</style>\n",
       "<table border=\"1\" class=\"dataframe\">\n",
       "  <thead>\n",
       "    <tr style=\"text-align: right;\">\n",
       "      <th></th>\n",
       "      <th>max_depth</th>\n",
       "      <th>type_score</th>\n",
       "      <th>score</th>\n",
       "    </tr>\n",
       "  </thead>\n",
       "  <tbody>\n",
       "    <tr>\n",
       "      <th>200</th>\n",
       "      <td>3</td>\n",
       "      <td>mean_cross_score</td>\n",
       "      <td>0.96</td>\n",
       "    </tr>\n",
       "    <tr>\n",
       "      <th>201</th>\n",
       "      <td>4</td>\n",
       "      <td>mean_cross_score</td>\n",
       "      <td>0.96</td>\n",
       "    </tr>\n",
       "    <tr>\n",
       "      <th>202</th>\n",
       "      <td>5</td>\n",
       "      <td>mean_cross_score</td>\n",
       "      <td>0.96</td>\n",
       "    </tr>\n",
       "    <tr>\n",
       "      <th>203</th>\n",
       "      <td>6</td>\n",
       "      <td>mean_cross_score</td>\n",
       "      <td>0.96</td>\n",
       "    </tr>\n",
       "    <tr>\n",
       "      <th>204</th>\n",
       "      <td>7</td>\n",
       "      <td>mean_cross_score</td>\n",
       "      <td>0.96</td>\n",
       "    </tr>\n",
       "    <tr>\n",
       "      <th>205</th>\n",
       "      <td>8</td>\n",
       "      <td>mean_cross_score</td>\n",
       "      <td>0.96</td>\n",
       "    </tr>\n",
       "    <tr>\n",
       "      <th>206</th>\n",
       "      <td>9</td>\n",
       "      <td>mean_cross_score</td>\n",
       "      <td>0.96</td>\n",
       "    </tr>\n",
       "    <tr>\n",
       "      <th>199</th>\n",
       "      <td>2</td>\n",
       "      <td>mean_cross_score</td>\n",
       "      <td>0.95</td>\n",
       "    </tr>\n",
       "    <tr>\n",
       "      <th>198</th>\n",
       "      <td>1</td>\n",
       "      <td>mean_cross_score</td>\n",
       "      <td>0.70</td>\n",
       "    </tr>\n",
       "  </tbody>\n",
       "</table>\n",
       "</div>"
      ],
      "text/plain": [
       "     max_depth        type_score  score\n",
       "200          3  mean_cross_score   0.96\n",
       "201          4  mean_cross_score   0.96\n",
       "202          5  mean_cross_score   0.96\n",
       "203          6  mean_cross_score   0.96\n",
       "204          7  mean_cross_score   0.96\n",
       "205          8  mean_cross_score   0.96\n",
       "206          9  mean_cross_score   0.96\n",
       "199          2  mean_cross_score   0.95\n",
       "198          1  mean_cross_score   0.70"
      ]
     },
     "execution_count": 201,
     "metadata": {},
     "output_type": "execute_result"
    }
   ],
   "source": [
    "scores_data_long.query('type_score == \"mean_cross_score\" and max_depth < 10').sort_values('score', ascending=False) # на глубене дерева = 3 лучший результат"
   ]
  },
  {
   "cell_type": "code",
   "execution_count": 191,
   "id": "604fbfc0-462b-4790-b8e2-e698909ced8b",
   "metadata": {},
   "outputs": [],
   "source": [
    "sns.set(rc={'figure.figsize':(11.7,8.27)})\n",
    "# plt.rcParams[\"xtick.labelsize\"] = 7 # размер надписей по оси х"
   ]
  },
  {
   "cell_type": "code",
   "execution_count": 192,
   "id": "db5ae7bd-8e10-4e66-a377-aa2c62fde7b9",
   "metadata": {},
   "outputs": [
    {
     "data": {
      "text/plain": [
       "<AxesSubplot:xlabel='max_depth', ylabel='score'>"
      ]
     },
     "execution_count": 192,
     "metadata": {},
     "output_type": "execute_result"
    },
    {
     "data": {
      "image/png": "[encoded data removed]",
      "text/plain": [
       "<Figure size 842.4x595.44 with 1 Axes>"
      ]
     },
     "metadata": {},
     "output_type": "display_data"
    }
   ],
   "source": [
    "plot = sns.lineplot(y='score', x='max_depth', hue='type_score', data=scores_data_long)\n",
    "plot.xaxis.set_ticks(range(0,100,5)) # изменить масштаб оси х и выставить свои значения х\n",
    "plot"
   ]
  },
  {
   "cell_type": "markdown",
   "id": "ee8360e1-bc84-4ffd-b189-ee1b13623cf3",
   "metadata": {},
   "source": [
    "#### График означает, что если глубина (max_depth)\n",
    "\n",
    "- < 2, дерево **недообучено**,\n",
    "- \\> 4, дерево **переобучается** и хуже работает на тестовой выборке\n",
    "\n",
    "Переобучение в данном случае значит, что дерево стремится не только найти **общие закономерности**, но у учесть все частные случаи тренировочного сета. И т.к. в тестовом сете может небыть этих частных случаев - **аккуратность (accuracy_score)** алгоритма ухудшается.\n",
    "\n",
    "Кроме того, т.к. проверяем качество на одном и том же тестовом наборе данных, мы выбираем модель с наилучшей точностью именно для этого тестового набора данных. На дугом тестовом наборе модель может работать хуже. В идеале, нужно показывать 1 модели тестовый набор данных только 1 раз.\n",
    "\n",
    "https://stepik.org/lesson/209691/step/8?unit=183195"
   ]
  },
  {
   "cell_type": "markdown",
   "id": "69d82c85-6d80-4711-976f-4c85e608378a",
   "metadata": {},
   "source": [
    "#### Тестовое задание\n",
    "\n",
    "https://stepik.org/lesson/209691/step/15?unit=183195"
   ]
  },
  {
   "cell_type": "markdown",
   "id": "0edbd4d2-8219-4b9f-9a41-343806f9cccd",
   "metadata": {},
   "source": [
    "##### Получаем данные"
   ]
  },
  {
   "cell_type": "code",
   "execution_count": 209,
   "id": "b525feb0-5eb1-48e5-9cb9-69d5c76e961c",
   "metadata": {},
   "outputs": [],
   "source": [
    "cat_doc_df = pd.read_csv('https://stepik.org/media/attachments/course/4852/dogs_n_cats.csv')"
   ]
  },
  {
   "cell_type": "code",
   "execution_count": 210,
   "id": "0f4bac55-7aa6-4eac-b5bc-3e9714dc318b",
   "metadata": {},
   "outputs": [
    {
     "name": "stdout",
     "output_type": "stream",
     "text": [
      "<class 'pandas.core.frame.DataFrame'>\n",
      "RangeIndex: 1000 entries, 0 to 999\n",
      "Data columns (total 6 columns):\n",
      " #   Column              Non-Null Count  Dtype  \n",
      "---  ------              --------------  -----  \n",
      " 0   Длина               1000 non-null   int64  \n",
      " 1   Высота              1000 non-null   float64\n",
      " 2   Шерстист            1000 non-null   int64  \n",
      " 3   Гавкает             1000 non-null   int64  \n",
      " 4   Лазает по деревьям  1000 non-null   int64  \n",
      " 5   Вид                 1000 non-null   object \n",
      "dtypes: float64(1), int64(4), object(1)\n",
      "memory usage: 47.0+ KB\n"
     ]
    }
   ],
   "source": [
    "cat_doc_df.info()"
   ]
  },
  {
   "cell_type": "markdown",
   "id": "7501c07d-c080-4058-8415-313d5cbb49ce",
   "metadata": {},
   "source": [
    "##### Готовим фичи. Разбиваем данные на train и test сеты"
   ]
  },
  {
   "cell_type": "code",
   "execution_count": 211,
   "id": "9d976d71-06e2-49f4-b5c7-694df8bc5ccc",
   "metadata": {},
   "outputs": [],
   "source": [
    "from sklearn.model_selection import train_test_split"
   ]
  },
  {
   "cell_type": "code",
   "execution_count": 212,
   "id": "7a3b591b-c342-4b1d-a0af-10d426c1bc63",
   "metadata": {},
   "outputs": [],
   "source": [
    "X = cat_doc_df.drop(['Вид'], axis=1)\n",
    "y = cat_doc_df['Вид']"
   ]
  },
  {
   "cell_type": "code",
   "execution_count": 213,
   "id": "324927e2-9936-40f5-8d3f-538cc1df44e0",
   "metadata": {},
   "outputs": [],
   "source": [
    "X_train, X_test, y_train, y_test = train_test_split(X, y, test_size=0.33, random_state=42)"
   ]
  },
  {
   "cell_type": "markdown",
   "id": "258c5e82-542b-4b2c-a68e-4ab09c5803a3",
   "metadata": {},
   "source": [
    "##### Обучаем"
   ]
  },
  {
   "cell_type": "code",
   "execution_count": 214,
   "id": "b048f2b2-21bb-4a61-ac82-e4a8927fc002",
   "metadata": {},
   "outputs": [],
   "source": [
    "cat_doc_scores_data = pd.DataFrame()"
   ]
  },
  {
   "cell_type": "code",
   "execution_count": 215,
   "id": "6a04bec8-b4c6-4aef-ae16-39523cab8ffd",
   "metadata": {},
   "outputs": [],
   "source": [
    "for max_depth in max_depth_values:\n",
    "    cls = tree.DecisionTreeClassifier(criterion='entropy', max_depth=max_depth, random_state=rs)\n",
    "    cls.fit(X_train, y_train)\n",
    "    train_score = cls.score(X_train, y_train)\n",
    "    test_score = cls.score(X_test, y_test)\n",
    "    mean_cross_score = cross_val_score(cls, X_train, y_train, cv=5).mean()\n",
    "    temp_df = pd.DataFrame({\"max_depth\": [max_depth], \n",
    "                            \"train_score\": [train_score], \n",
    "                            \"test_score\": [test_score], # [train score] - в квадратных скобках, т.к. пишем 1 значение\n",
    "                            \"mean_cross_score\": [mean_cross_score]\n",
    "                          })\n",
    "    scores_data = scores_data.append(temp_df)"
   ]
  },
  {
   "cell_type": "code",
   "execution_count": 216,
   "id": "7e9d8ad4-ba15-4f60-9d5d-5532c82c3ec5",
   "metadata": {},
   "outputs": [],
   "source": [
    "cat_doc_scores_data_long = pd.melt(scores_data,\n",
    "                      id_vars=['max_depth'], # колонка для группировки\n",
    "                      value_vars=['train_score', 'test_score', 'mean_cross_score'], # колонки для группировки по типу\n",
    "                      value_name='score', # тип\n",
    "                      var_name='type_score' # название колонки с типом\n",
    "                     )"
   ]
  },
  {
   "cell_type": "code",
   "execution_count": 217,
   "id": "d28ff711-c813-4d6b-a0e0-ff0ff448f31f",
   "metadata": {},
   "outputs": [
    {
     "data": {
      "text/html": [
       "<div>\n",
       "<style scoped>\n",
       "    .dataframe tbody tr th:only-of-type {\n",
       "        vertical-align: middle;\n",
       "    }\n",
       "\n",
       "    .dataframe tbody tr th {\n",
       "        vertical-align: top;\n",
       "    }\n",
       "\n",
       "    .dataframe thead th {\n",
       "        text-align: right;\n",
       "    }\n",
       "</style>\n",
       "<table border=\"1\" class=\"dataframe\">\n",
       "  <thead>\n",
       "    <tr style=\"text-align: right;\">\n",
       "      <th></th>\n",
       "      <th>max_depth</th>\n",
       "      <th>type_score</th>\n",
       "      <th>score</th>\n",
       "    </tr>\n",
       "  </thead>\n",
       "  <tbody>\n",
       "    <tr>\n",
       "      <th>495</th>\n",
       "      <td>1</td>\n",
       "      <td>mean_cross_score</td>\n",
       "      <td>1.00</td>\n",
       "    </tr>\n",
       "    <tr>\n",
       "      <th>496</th>\n",
       "      <td>2</td>\n",
       "      <td>mean_cross_score</td>\n",
       "      <td>1.00</td>\n",
       "    </tr>\n",
       "    <tr>\n",
       "      <th>502</th>\n",
       "      <td>8</td>\n",
       "      <td>mean_cross_score</td>\n",
       "      <td>1.00</td>\n",
       "    </tr>\n",
       "    <tr>\n",
       "      <th>501</th>\n",
       "      <td>7</td>\n",
       "      <td>mean_cross_score</td>\n",
       "      <td>1.00</td>\n",
       "    </tr>\n",
       "    <tr>\n",
       "      <th>500</th>\n",
       "      <td>6</td>\n",
       "      <td>mean_cross_score</td>\n",
       "      <td>1.00</td>\n",
       "    </tr>\n",
       "    <tr>\n",
       "      <th>499</th>\n",
       "      <td>5</td>\n",
       "      <td>mean_cross_score</td>\n",
       "      <td>1.00</td>\n",
       "    </tr>\n",
       "    <tr>\n",
       "      <th>498</th>\n",
       "      <td>4</td>\n",
       "      <td>mean_cross_score</td>\n",
       "      <td>1.00</td>\n",
       "    </tr>\n",
       "    <tr>\n",
       "      <th>497</th>\n",
       "      <td>3</td>\n",
       "      <td>mean_cross_score</td>\n",
       "      <td>1.00</td>\n",
       "    </tr>\n",
       "    <tr>\n",
       "      <th>503</th>\n",
       "      <td>9</td>\n",
       "      <td>mean_cross_score</td>\n",
       "      <td>1.00</td>\n",
       "    </tr>\n",
       "    <tr>\n",
       "      <th>404</th>\n",
       "      <td>9</td>\n",
       "      <td>mean_cross_score</td>\n",
       "      <td>0.96</td>\n",
       "    </tr>\n",
       "    <tr>\n",
       "      <th>403</th>\n",
       "      <td>8</td>\n",
       "      <td>mean_cross_score</td>\n",
       "      <td>0.96</td>\n",
       "    </tr>\n",
       "    <tr>\n",
       "      <th>402</th>\n",
       "      <td>7</td>\n",
       "      <td>mean_cross_score</td>\n",
       "      <td>0.96</td>\n",
       "    </tr>\n",
       "    <tr>\n",
       "      <th>401</th>\n",
       "      <td>6</td>\n",
       "      <td>mean_cross_score</td>\n",
       "      <td>0.96</td>\n",
       "    </tr>\n",
       "    <tr>\n",
       "      <th>400</th>\n",
       "      <td>5</td>\n",
       "      <td>mean_cross_score</td>\n",
       "      <td>0.96</td>\n",
       "    </tr>\n",
       "    <tr>\n",
       "      <th>399</th>\n",
       "      <td>4</td>\n",
       "      <td>mean_cross_score</td>\n",
       "      <td>0.96</td>\n",
       "    </tr>\n",
       "    <tr>\n",
       "      <th>398</th>\n",
       "      <td>3</td>\n",
       "      <td>mean_cross_score</td>\n",
       "      <td>0.96</td>\n",
       "    </tr>\n",
       "    <tr>\n",
       "      <th>397</th>\n",
       "      <td>2</td>\n",
       "      <td>mean_cross_score</td>\n",
       "      <td>0.95</td>\n",
       "    </tr>\n",
       "    <tr>\n",
       "      <th>396</th>\n",
       "      <td>1</td>\n",
       "      <td>mean_cross_score</td>\n",
       "      <td>0.70</td>\n",
       "    </tr>\n",
       "  </tbody>\n",
       "</table>\n",
       "</div>"
      ],
      "text/plain": [
       "     max_depth        type_score  score\n",
       "495          1  mean_cross_score   1.00\n",
       "496          2  mean_cross_score   1.00\n",
       "502          8  mean_cross_score   1.00\n",
       "501          7  mean_cross_score   1.00\n",
       "500          6  mean_cross_score   1.00\n",
       "499          5  mean_cross_score   1.00\n",
       "498          4  mean_cross_score   1.00\n",
       "497          3  mean_cross_score   1.00\n",
       "503          9  mean_cross_score   1.00\n",
       "404          9  mean_cross_score   0.96\n",
       "403          8  mean_cross_score   0.96\n",
       "402          7  mean_cross_score   0.96\n",
       "401          6  mean_cross_score   0.96\n",
       "400          5  mean_cross_score   0.96\n",
       "399          4  mean_cross_score   0.96\n",
       "398          3  mean_cross_score   0.96\n",
       "397          2  mean_cross_score   0.95\n",
       "396          1  mean_cross_score   0.70"
      ]
     },
     "execution_count": 217,
     "metadata": {},
     "output_type": "execute_result"
    }
   ],
   "source": [
    "cat_doc_scores_data_long.query('type_score == \"mean_cross_score\" and max_depth < 10').sort_values('score', ascending=False) # на глубене дерева = 2 лучший результат"
   ]
  },
  {
   "cell_type": "code",
   "execution_count": 218,
   "id": "a0af09a6-b8af-43fc-8505-ee5700c48134",
   "metadata": {},
   "outputs": [],
   "source": [
    "best_cat_doc_cls = tree.DecisionTreeClassifier(criterion='entropy', max_depth=2, random_state=rs)"
   ]
  },
  {
   "cell_type": "code",
   "execution_count": 221,
   "id": "a100531b-3607-4ace-b60e-f5f573673e8f",
   "metadata": {},
   "outputs": [
    {
     "data": {
      "text/plain": [
       "1.0"
      ]
     },
     "execution_count": 221,
     "metadata": {},
     "output_type": "execute_result"
    }
   ],
   "source": [
    "cross_score = cross_val_score(cls, X_train, y_train, cv=5).mean()\n",
    "cross_score"
   ]
  },
  {
   "cell_type": "code",
   "execution_count": 226,
   "id": "a9c4f279-8a4b-4ef5-8c60-186595660716",
   "metadata": {},
   "outputs": [
    {
     "data": {
      "text/plain": [
       "DecisionTreeClassifier(criterion='entropy', max_depth=2)"
      ]
     },
     "execution_count": 226,
     "metadata": {},
     "output_type": "execute_result"
    }
   ],
   "source": [
    "best_cat_doc_cls.fit(X_train, y_train)"
   ]
  },
  {
   "cell_type": "code",
   "execution_count": 233,
   "id": "77ed6de7-4e3b-40df-9f4f-fb0c76e55c2f",
   "metadata": {},
   "outputs": [],
   "source": [
    "X_test = pd.read_json('C:\\\\Users\\\\al-gry\\\\Downloads\\\\dataset_209691_15.txt')"
   ]
  },
  {
   "cell_type": "code",
   "execution_count": 234,
   "id": "0b6a2d1a-2b03-4e29-8ba7-8846a7b91b68",
   "metadata": {},
   "outputs": [
    {
     "data": {
      "text/html": [
       "<div>\n",
       "<style scoped>\n",
       "    .dataframe tbody tr th:only-of-type {\n",
       "        vertical-align: middle;\n",
       "    }\n",
       "\n",
       "    .dataframe tbody tr th {\n",
       "        vertical-align: top;\n",
       "    }\n",
       "\n",
       "    .dataframe thead th {\n",
       "        text-align: right;\n",
       "    }\n",
       "</style>\n",
       "<table border=\"1\" class=\"dataframe\">\n",
       "  <thead>\n",
       "    <tr style=\"text-align: right;\">\n",
       "      <th></th>\n",
       "      <th>Длина</th>\n",
       "      <th>Высота</th>\n",
       "      <th>Шерстист</th>\n",
       "      <th>Гавкает</th>\n",
       "      <th>Лазает по деревьям</th>\n",
       "    </tr>\n",
       "  </thead>\n",
       "  <tbody>\n",
       "    <tr>\n",
       "      <th>0</th>\n",
       "      <td>18</td>\n",
       "      <td>21.6</td>\n",
       "      <td>1</td>\n",
       "      <td>1</td>\n",
       "      <td>0</td>\n",
       "    </tr>\n",
       "    <tr>\n",
       "      <th>1</th>\n",
       "      <td>31</td>\n",
       "      <td>37.2</td>\n",
       "      <td>1</td>\n",
       "      <td>1</td>\n",
       "      <td>0</td>\n",
       "    </tr>\n",
       "    <tr>\n",
       "      <th>2</th>\n",
       "      <td>22</td>\n",
       "      <td>26.4</td>\n",
       "      <td>1</td>\n",
       "      <td>1</td>\n",
       "      <td>0</td>\n",
       "    </tr>\n",
       "    <tr>\n",
       "      <th>3</th>\n",
       "      <td>22</td>\n",
       "      <td>26.4</td>\n",
       "      <td>1</td>\n",
       "      <td>1</td>\n",
       "      <td>0</td>\n",
       "    </tr>\n",
       "    <tr>\n",
       "      <th>4</th>\n",
       "      <td>17</td>\n",
       "      <td>20.4</td>\n",
       "      <td>1</td>\n",
       "      <td>1</td>\n",
       "      <td>0</td>\n",
       "    </tr>\n",
       "  </tbody>\n",
       "</table>\n",
       "</div>"
      ],
      "text/plain": [
       "   Длина  Высота  Шерстист  Гавкает  Лазает по деревьям\n",
       "0     18    21.6         1        1                   0\n",
       "1     31    37.2         1        1                   0\n",
       "2     22    26.4         1        1                   0\n",
       "3     22    26.4         1        1                   0\n",
       "4     17    20.4         1        1                   0"
      ]
     },
     "execution_count": 234,
     "metadata": {},
     "output_type": "execute_result"
    }
   ],
   "source": [
    "X_test.head()"
   ]
  },
  {
   "cell_type": "markdown",
   "id": "0f5fab10-9df4-4a98-a45c-e06460613bc2",
   "metadata": {},
   "source": [
    "##### Предсказываем"
   ]
  },
  {
   "cell_type": "code",
   "execution_count": 235,
   "id": "23ff6ae8-fc44-4786-b21d-0d8a4b8816ed",
   "metadata": {},
   "outputs": [],
   "source": [
    "result = pd.Series(best_cat_doc_cls.predict(X_test))"
   ]
  },
  {
   "cell_type": "code",
   "execution_count": 236,
   "id": "10d73995-ca93-4d4e-b5e2-6bcbc49c7076",
   "metadata": {},
   "outputs": [
    {
     "data": {
      "text/plain": [
       "46"
      ]
     },
     "execution_count": 236,
     "metadata": {},
     "output_type": "execute_result"
    }
   ],
   "source": [
    "result[result == 'собачка'].count()"
   ]
  },
  {
   "cell_type": "code",
   "execution_count": null,
   "id": "bfdf0c94-b847-4d11-908e-bbdd34ced250",
   "metadata": {},
   "outputs": [],
   "source": []
  }
 ],
 "metadata": {
  "kernelspec": {
   "display_name": "Python 3",
   "language": "python",
   "name": "python3"
  },
  "language_info": {
   "codemirror_mode": {
    "name": "ipython",
    "version": 3
   },
   "file_extension": ".py",
   "mimetype": "text/x-python",
   "name": "python",
   "nbconvert_exporter": "python",
   "pygments_lexer": "ipython3",
   "version": "3.8.8"
  }
 },
 "nbformat": 4,
 "nbformat_minor": 5
}
